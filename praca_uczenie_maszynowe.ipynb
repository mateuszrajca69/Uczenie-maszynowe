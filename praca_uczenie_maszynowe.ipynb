{
  "nbformat": 4,
  "nbformat_minor": 0,
  "metadata": {
    "colab": {
      "name": "praca_uczenie_maszynowe.ipynb",
      "provenance": [],
      "collapsed_sections": [],
      "authorship_tag": "ABX9TyPmHzZ942BJeVsNwSGSdCqQ",
      "include_colab_link": true
    },
    "kernelspec": {
      "name": "python3",
      "display_name": "Python 3"
    },
    "language_info": {
      "name": "python"
    }
  },
  "cells": [
    {
      "cell_type": "markdown",
      "metadata": {
        "id": "view-in-github",
        "colab_type": "text"
      },
      "source": [
        "<a href=\"https://colab.research.google.com/github/mateuszrajca69/Uczenie-maszynowe/blob/main/praca_uczenie_maszynowe.ipynb\" target=\"_parent\"><img src=\"https://colab.research.google.com/assets/colab-badge.svg\" alt=\"Open In Colab\"/></a>"
      ]
    },
    {
      "cell_type": "code",
      "metadata": {
        "id": "X7qSMVcjrSIJ"
      },
      "source": [
        "import matplotlib.pyplot as plt\n",
        "import numpy as np\n"
      ],
      "execution_count": null,
      "outputs": []
    },
    {
      "cell_type": "code",
      "metadata": {
        "id": "SlaWrYfKraNr"
      },
      "source": [
        "NUM_TRIALS = 1000\n",
        "BANDIT_PROBABILITIES = [0.75, 0.5, 0.25, 0.25]\n",
        "EPSILON = 0.4"
      ],
      "execution_count": null,
      "outputs": []
    },
    {
      "cell_type": "code",
      "metadata": {
        "id": "tUolyhKLxTzW"
      },
      "source": [
        "class Bandit_Optimistic:\n",
        "  def __init__(self, q):\n",
        "    self.q = q\n",
        "    self.q_estimate = 5.\n",
        "    self.N = 0.\n",
        "\n",
        "  def pull(self):\n",
        "    return np.random.random() < self.q\n",
        "\n",
        "  def update(self, r):\n",
        "    self.N += 1.\n",
        "    self.q_estimate = ((self.N - 1)*self.q_estimate + r) / self.N"
      ],
      "execution_count": null,
      "outputs": []
    },
    {
      "cell_type": "code",
      "metadata": {
        "id": "MVh9c8T9xYus",
        "colab": {
          "base_uri": "https://localhost:8080/",
          "height": 388
        },
        "outputId": "13d86f1e-3f73-44ab-edb5-b459e99c3f0b"
      },
      "source": [
        "def experiment_optimistic():\n",
        "  bandits = [Bandit_Optimistic(q) for q in BANDIT_PROBABILITIES]\n",
        "\n",
        "  rewards = np.zeros(NUM_TRIALS)\n",
        "  for i in range(NUM_TRIALS):\n",
        "    j = np.argmax([b.q_estimate for b in bandits])\n",
        "\n",
        "    r = bandits[j].pull()\n",
        "\n",
        "    rewards[i] = r\n",
        "\n",
        "    bandits[j].update(r)\n",
        "\n",
        "\n",
        "  for b in bandits:\n",
        "    print(\"średnie oszacowanie:\", b.q_estimate)\n",
        "\n",
        "  print(\"całkowita zdobyta nagroda:\", rewards.sum())\n",
        "  print(\"ogólny wskaźnik wygranych:\", rewards.sum() / NUM_TRIALS)\n",
        "  print(\"tyle razy wybrano każdego bandytę/preparat:\", [b.N for b in bandits])\n",
        "\n",
        "  cumulative_rewards = np.cumsum(rewards)\n",
        "  win_rates = cumulative_rewards / (np.arange(NUM_TRIALS) + 1)\n",
        "  plt.ylim([0, 1])\n",
        "  plt.plot(win_rates)\n",
        "  plt.plot(np.ones(NUM_TRIALS)*np.max(BANDIT_PROBABILITIES))\n",
        "  plt.show()\n",
        "\n",
        "if __name__ == \"__main__\":\n",
        "  experiment_optimistic()"
      ],
      "execution_count": null,
      "outputs": [
        {
          "output_type": "stream",
          "text": [
            "średnie oszacowanie: 0.7401812688821747\n",
            "średnie oszacowanie: 0.0\n",
            "średnie oszacowanie: 0.3333333333333333\n",
            "średnie oszacowanie: 0.3333333333333333\n",
            "całkowita zdobyta nagroda: 737.0\n",
            "ogólny wskaźnik wygranych: 0.737\n",
            "tyle razy wybrano każdego bandytę: [993.0, 1.0, 3.0, 3.0]\n"
          ],
          "name": "stdout"
        },
        {
          "output_type": "display_data",
          "data": {
            "image/png": "[encoded data removed]",
            "text/plain": [
              "<Figure size 432x288 with 1 Axes>"
            ]
          },
          "metadata": {
            "tags": [],
            "needs_background": "light"
          }
        }
      ]
    },
    {
      "cell_type": "markdown",
      "metadata": {
        "id": "5WjukW6PXX-B"
      },
      "source": [
        "Hipoteza z wynikiem działania algorytmu jest poprawna, pokrywa się ona z założeniami na temat najlepszego preparatu.\n",
        "\n",
        "Testujemy preparat wykonując 1000 prób posiadając 4 preparaty o różnym prawdopodobieństwu skuteczności w efekcie otzrymujemy średnie oszacowanie wynoszące =0.74 .\n",
        "\n",
        "Znajdujemy najlepszy preparat, który pokrywa się z podanymi danymi w zadaniu.. oczywiście był on  testowany metodą optymistycznych wartości początkowych. \n"
      ]
    }
  ]
}