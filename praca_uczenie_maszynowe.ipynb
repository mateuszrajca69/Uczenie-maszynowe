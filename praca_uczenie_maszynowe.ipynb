{
  "nbformat": 4,
  "nbformat_minor": 0,
  "metadata": {
    "colab": {
      "name": "praca_uczenie_maszynowe.ipynb",
      "provenance": [],
      "collapsed_sections": [],
      "authorship_tag": "ABX9TyNVL7nFcnpjVdlgKacuQAe1",
      "include_colab_link": true
    },
    "kernelspec": {
      "name": "python3",
      "display_name": "Python 3"
    },
    "language_info": {
      "name": "python"
    }
  },
  "cells": [
    {
      "cell_type": "markdown",
      "metadata": {
        "id": "view-in-github",
        "colab_type": "text"
      },
      "source": [
        "<a href=\"https://colab.research.google.com/github/mateuszrajca69/Uczenie-maszynowe/blob/main/praca_uczenie_maszynowe.ipynb\" target=\"_parent\"><img src=\"https://colab.research.google.com/assets/colab-badge.svg\" alt=\"Open In Colab\"/></a>"
      ]
    },
    {
      "cell_type": "code",
      "metadata": {
        "id": "X7qSMVcjrSIJ"
      },
      "source": [
        "import matplotlib.pyplot as plt\n",
        "import numpy as np\n"
      ],
      "execution_count": 1,
      "outputs": []
    },
    {
      "cell_type": "code",
      "metadata": {
        "id": "SlaWrYfKraNr"
      },
      "source": [
        "NUM_TRIALS = 16\n",
        "BANDIT_PROBABILITIES = [0.75, 0.5, 0.25, 0.25]\n",
        "EPSILON = 0.1"
      ],
      "execution_count": 2,
      "outputs": []
    },
    {
      "cell_type": "code",
      "metadata": {
        "id": "loqEHmAireCp"
      },
      "source": [
        "class Bandit:\n",
        "  def __init__(self, q):\n",
        "    self.q = q\n",
        "    self.q_estimate = 0.\n",
        "    self.N = 0.\n",
        "\n",
        "  def pull(self):\n",
        "    return np.random.random() < self.q\n",
        "\n",
        "  def update(self, r):\n",
        "    self.N += 1.\n",
        "    self.q_estimate = ((self.N - 1)*self.q_estimate + r) / self.N"
      ],
      "execution_count": 3,
      "outputs": []
    },
    {
      "cell_type": "code",
      "metadata": {
        "colab": {
          "base_uri": "https://localhost:8080/",
          "height": 388
        },
        "id": "GVcpewCvr3Nh",
        "outputId": "0f66b5eb-5a17-4b3c-d7d9-e35bf8244cf9"
      },
      "source": [
        "def experiment_greedy():\n",
        "  bandits = [Bandit(q) for q in BANDIT_PROBABILITIES]\n",
        "  rewards = np.zeros(NUM_TRIALS)\n",
        "\n",
        "  for i in range(NUM_TRIALS):\n",
        "    j = np.argmax([b.q_estimate for b in bandits])\n",
        "\n",
        "    r = bandits[j].pull()\n",
        "\n",
        "    rewards[i] = r\n",
        "\n",
        "    bandits[j].update(r)\n",
        "\n",
        "\n",
        "  for b in bandits:\n",
        "    print(\"średnie oszacowanie:\", b.q_estimate)\n",
        "\n",
        "  print(\"całkowita zdobyta nagroda:\", rewards.sum())\n",
        "  print(\"ogólny wskaźnik wygranych:\", rewards.sum() / NUM_TRIALS)\n",
        "  print(\"tyle razy wybrano każdego bandytę:\", [b.N for b in bandits])\n",
        "\n",
        "  cumulative_rewards = np.cumsum(rewards)\n",
        "  win_rates = cumulative_rewards / (np.arange(NUM_TRIALS) + 1)\n",
        "  plt.ylim([0, 1])\n",
        "  plt.plot(win_rates)\n",
        "  plt.plot(np.ones(NUM_TRIALS)*np.max(BANDIT_PROBABILITIES))\n",
        "  plt.show()\n",
        "\n",
        "if __name__ == \"__main__\":\n",
        "  experiment_greedy()"
      ],
      "execution_count": 4,
      "outputs": [
        {
          "output_type": "stream",
          "text": [
            "średnie oszacowanie: 0.8125\n",
            "średnie oszacowanie: 0.0\n",
            "średnie oszacowanie: 0.0\n",
            "średnie oszacowanie: 0.0\n",
            "całkowita zdobyta nagroda: 13.0\n",
            "ogólny wskaźnik wygranych: 0.8125\n",
            "tyle razy wybrano każdego bandytę: [16.0, 0.0, 0.0, 0.0]\n"
          ],
          "name": "stdout"
        },
        {
          "output_type": "display_data",
          "data": {
            "image/png": "[encoded data removed]",
            "text/plain": [
              "<Figure size 432x288 with 1 Axes>"
            ]
          },
          "metadata": {
            "tags": [],
            "needs_background": "light"
          }
        }
      ]
    },
    {
      "cell_type": "code",
      "metadata": {
        "id": "x9J6L-oLsMNM"
      },
      "source": [
        ""
      ],
      "execution_count": 4,
      "outputs": []
    },
    {
      "cell_type": "code",
      "metadata": {
        "id": "tUolyhKLxTzW"
      },
      "source": [
        ""
      ],
      "execution_count": 4,
      "outputs": []
    },
    {
      "cell_type": "code",
      "metadata": {
        "id": "MVh9c8T9xYus"
      },
      "source": [
        ""
      ],
      "execution_count": 4,
      "outputs": []
    },
    {
      "cell_type": "code",
      "metadata": {
        "id": "1hIYolHkxasM"
      },
      "source": [
        ""
      ],
      "execution_count": 4,
      "outputs": []
    },
    {
      "cell_type": "code",
      "metadata": {
        "id": "-MXIAU4zxcck"
      },
      "source": [
        ""
      ],
      "execution_count": 4,
      "outputs": []
    }
  ]
}